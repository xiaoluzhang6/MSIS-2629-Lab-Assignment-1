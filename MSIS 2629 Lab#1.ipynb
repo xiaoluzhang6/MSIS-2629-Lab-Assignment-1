{
 "cells": [
  {
   "cell_type": "markdown",
   "metadata": {},
   "source": [
    "MSIS 2629\n",
    "Lab Assignment 1\n",
    "\n",
    "“World’s Biggest Data Breaches”"
   ]
  },
  {
   "cell_type": "code",
   "execution_count": 5,
   "metadata": {
    "ExecuteTime": {
     "end_time": "2017-09-23T18:58:41.957529Z",
     "start_time": "2017-09-23T18:58:41.873958Z"
    }
   },
   "outputs": [
    {
     "name": "stdout",
     "output_type": "stream",
     "text": [
      "     YEAR  records lost            ORGANISATION METHOD OF LEAK\n",
      "0    2005    40000000.0               financial         hacked\n",
      "1    2006     4000000.0                telecoms         hacked\n",
      "2    2007     1600000.0                     web         hacked\n",
      "3    2007     4200000.0                  retail         hacked\n",
      "4    2007     6300000.0               financial         hacked\n",
      "5    2007    94000000.0                  retail         hacked\n",
      "6    2008     1500000.0               financial         hacked\n",
      "7    2008     5000000.0               financial         hacked\n",
      "8    2008     6000000.0              government         hacked\n",
      "9    2008    18000000.0                     web         hacked\n",
      "10   2009      160000.0                academic         hacked\n",
      "11   2009      531400.0              healthcare         hacked\n",
      "12   2009      573000.0                    tech         hacked\n",
      "13   2009     5000000.0               financial         hacked\n",
      "14   2009     8257378.0  government, healthcare         hacked\n",
      "15   2009    32000000.0             web, gaming         hacked\n",
      "16   2009   130000000.0               financial         hacked\n",
      "17   2010      114000.0                telecoms         hacked\n",
      "18   2010      156000.0              healthcare         hacked\n",
      "19   2010      231400.0              healthcare         hacked\n",
      "20   2010      400000.0               financial         hacked\n",
      "21   2010      515000.0              healthcare         hacked\n",
      "22   2010      760000.0                academic         hacked\n",
      "23   2010     1500000.0                     web         hacked\n",
      "24   2010     2300000.0                     web         hacked\n",
      "25   2011       62000.0                     web         hacked\n",
      "26   2011       73000.0                academic         hacked\n",
      "27   2011      123461.0              government         hacked\n",
      "28   2011      180000.0              government         hacked\n",
      "29   2011      200000.0                  gaming         hacked\n",
      "..    ...           ...                     ...            ...\n",
      "126  2016    49611709.0              government         hacked\n",
      "127  2016    55000000.0              government         hacked\n",
      "128  2016    80000000.0              healthcare         hacked\n",
      "129  2016   100544934.0                     web         hacked\n",
      "130  2016        1025.0                  retail         hacked\n",
      "131  2016   164000000.0                     web         hacked\n",
      "132  2016     2000000.0                     web         hacked\n",
      "133  2016       35000.0                     web         hacked\n",
      "134  2016     3700000.0              healthcare         hacked\n",
      "135  2017       34000.0              healthcare         hacked\n",
      "136  2017      200000.0                telecoms         hacked\n",
      "137  2017      270000.0               financial         hacked\n",
      "138  2017      300000.0                     web         hacked\n",
      "139  2017      700000.0                     web         hacked\n",
      "140  2017      790724.0                     web         hacked\n",
      "141  2017     1700000.0                     app         hacked\n",
      "142  2017     1900000.0                telecoms         hacked\n",
      "143  2017     3000000.0                    tech         hacked\n",
      "144  2017     5000000.0              government         hacked\n",
      "145  2017     6600000.0                     web         hacked\n",
      "146  2017     9500000.0                     web         hacked\n",
      "147  2017    10000000.0                     web         hacked\n",
      "148  2017    17000000.0                     web         hacked\n",
      "149  2017    32000000.0                     web         hacked\n",
      "150  2017    43000000.0                     web         hacked\n",
      "151  2017    85200000.0                     web         hacked\n",
      "152  2017   412000000.0                     web         hacked\n",
      "153  2017    15000000.0                    tech         hacked\n",
      "154  2017     6000000.0                     web         hacked\n",
      "155  2017   143000000.0               financial         hacked\n",
      "\n",
      "[156 rows x 4 columns]\n"
     ]
    }
   ],
   "source": [
    "# Original data modified in csv file\n",
    "\n",
    "import pandas as pd\n",
    "df1=pd.read_csv(\"test_data1.csv\")\n",
    "print(df1)\n",
    "\n",
    "        \n",
    "       \n",
    "        \n",
    "       \n",
    "    \n",
    "        \n",
    "        \n"
   ]
  },
  {
   "cell_type": "markdown",
   "metadata": {},
   "source": []
  },
  {
   "cell_type": "markdown",
   "metadata": {
    "ExecuteTime": {
     "end_time": "2017-09-23T19:02:17.484067Z",
     "start_time": "2017-09-23T19:02:17.458197Z"
    }
   },
   "source": [
    "Tableau Published Link: https://public.tableau.com/views/Lab1RecordsLostDuetoHacking/Sheet1?:embed=y&:display_count=yes&publish=yes"
   ]
  }
 ],
 "metadata": {
  "kernelspec": {
   "display_name": "Python 3",
   "language": "python",
   "name": "python3"
  },
  "language_info": {
   "codemirror_mode": {
    "name": "ipython",
    "version": 3
   },
   "file_extension": ".py",
   "mimetype": "text/x-python",
   "name": "python",
   "nbconvert_exporter": "python",
   "pygments_lexer": "ipython3",
   "version": "3.6.2"
  },
  "toc": {
   "nav_menu": {},
   "number_sections": true,
   "sideBar": true,
   "skip_h1_title": false,
   "toc_cell": false,
   "toc_position": {},
   "toc_section_display": "block",
   "toc_window_display": false
  },
  "varInspector": {
   "cols": {
    "lenName": 16,
    "lenType": 16,
    "lenVar": 40
   },
   "kernels_config": {
    "python": {
     "delete_cmd_postfix": "",
     "delete_cmd_prefix": "del ",
     "library": "var_list.py",
     "varRefreshCmd": "print(var_dic_list())"
    },
    "r": {
     "delete_cmd_postfix": ") ",
     "delete_cmd_prefix": "rm(",
     "library": "var_list.r",
     "varRefreshCmd": "cat(var_dic_list()) "
    }
   },
   "types_to_exclude": [
    "module",
    "function",
    "builtin_function_or_method",
    "instance",
    "_Feature"
   ],
   "window_display": false
  }
 },
 "nbformat": 4,
 "nbformat_minor": 2
}
