{
 "cells": [
  {
   "cell_type": "markdown",
   "metadata": {},
   "source": [
    "# Lab Assignment 4\n",
    ">This is part-1 of a three part project where we are developing a Dashboard for prospective MSIS students, as well as recruiters. For this session, we are obtaining 3 sets of data from the web, cleaning and reformatting them, and finally producing prototypes for each."
   ]
  },
  {
   "cell_type": "markdown",
   "metadata": {},
   "source": [
    "## Dataset #1: Linkedin Group\n",
    "The data is initially scraped from __[here](https://www.linkedin.com/school/165847/alumni/?facetFieldOfStudy=101468)__ by selecting, copying and formatting the data into csv file. A table is created in Tableau:<br>\n",
    "\n",
    "<img src=\"files/images/table4.1.png\"width=\"40%\"><br>\n",
    "\n",
    "*Advantages:* This graph gives prospective students a quick look at which big companies alumnis have landed jobs in; some of the reputations of the companies listed (google, Facebook, Apple, etc.) might give students the impression that the MSIS program will gear them with the skills needed to obtain jobs in those companies. The different sizes of the circles will give them a rough estimation about distribution of the actual numbers that work in that organization.<br>\n",
    "\n",
    "*Disadvantages:* There are some disadvantages to this visualization. First, the data is skewed; Linkedin does not show the entire list of companies which the Alumnis work at, and this also only represent those that are registered on Linkedin and identifies them selves as a MSIS Alumni; there are plenty of other Alumnis out there who are not considered for this data. Second, the actual numbers are based only on those who are currently employed; if the user clicks on 'Apple', a circle with considerable size, they will find that only 11 people work there. However, the small pool in which the data was taken gives the wrong impression that a high percentage of alumnis work there. Finally, there are many circles which have similar sizes; this will be difficult for comparison of the different companies without putting in any numbers or percentages.<br>\n",
    "\n",
    "*Possible Improvements:* Without getting into the flaws of the dataset, I can improve the visualization by adding more information on to the chart; I can clarify that this was taken from a pool of around 500 alumnis, and is further deducted down to a little 1/5th of that size (Linkedin will only show top 15 records). I can also chose to show actual values in the circles to give viewers a better sense of what the actual size of the population who work for the different organizations. \n",
    "\n",
    "\n",
    "\n",
    "\n",
    "\n",
    "\n"
   ]
  },
  {
   "cell_type": "markdown",
   "metadata": {},
   "source": [
    "## Dataset #2: Top Skills on Linkedin\n",
    "I've decided to use this set of __[data](https://www.tableau.com/about/blog/2017/4/flex-your-data-skills-makeover-monday-68584)__, since Linkedin has become one of the top source where students look for jobs, as well as a place for recruiters to find potential candidates for their company. For the past 3 years (2014, 2015, 2016), Linkedin did a study based on member profiles and skills which get them attention from recruiters. This dataset was downloaded in csv format and will be cleaned for country of interest (USA), and eliminated down to 'top 10 skills'."
   ]
  },
  {
   "cell_type": "code",
   "execution_count": 107,
   "metadata": {
    "ExecuteTime": {
     "end_time": "2017-10-14T07:06:25.465426Z",
     "start_time": "2017-10-14T07:06:25.430404Z"
    }
   },
   "outputs": [
    {
     "data": {
      "text/html": [
       "<div>\n",
       "<style>\n",
       "    .dataframe thead tr:only-child th {\n",
       "        text-align: right;\n",
       "    }\n",
       "\n",
       "    .dataframe thead th {\n",
       "        text-align: left;\n",
       "    }\n",
       "\n",
       "    .dataframe tbody tr th {\n",
       "        vertical-align: top;\n",
       "    }\n",
       "</style>\n",
       "<table border=\"1\" class=\"dataframe\">\n",
       "  <thead>\n",
       "    <tr style=\"text-align: right;\">\n",
       "      <th></th>\n",
       "      <th>Skill</th>\n",
       "      <th>Country</th>\n",
       "      <th>Year</th>\n",
       "      <th>Rank</th>\n",
       "    </tr>\n",
       "  </thead>\n",
       "  <tbody>\n",
       "    <tr>\n",
       "      <th>0</th>\n",
       "      <td>Algorithm Design</td>\n",
       "      <td>Australia</td>\n",
       "      <td>2015</td>\n",
       "      <td>13</td>\n",
       "    </tr>\n",
       "    <tr>\n",
       "      <th>1</th>\n",
       "      <td>Algorithm Design</td>\n",
       "      <td>Australia</td>\n",
       "      <td>2016</td>\n",
       "      <td>9</td>\n",
       "    </tr>\n",
       "    <tr>\n",
       "      <th>2</th>\n",
       "      <td>Business Intelligence</td>\n",
       "      <td>Australia</td>\n",
       "      <td>2014</td>\n",
       "      <td>6</td>\n",
       "    </tr>\n",
       "    <tr>\n",
       "      <th>3</th>\n",
       "      <td>Business Intelligence</td>\n",
       "      <td>Australia</td>\n",
       "      <td>2015</td>\n",
       "      <td>21</td>\n",
       "    </tr>\n",
       "    <tr>\n",
       "      <th>4</th>\n",
       "      <td>C/C++</td>\n",
       "      <td>Australia</td>\n",
       "      <td>2014</td>\n",
       "      <td>17</td>\n",
       "    </tr>\n",
       "  </tbody>\n",
       "</table>\n",
       "</div>"
      ],
      "text/plain": [
       "                   Skill    Country  Year  Rank\n",
       "0       Algorithm Design  Australia  2015    13\n",
       "1       Algorithm Design  Australia  2016     9\n",
       "2  Business Intelligence  Australia  2014     6\n",
       "3  Business Intelligence  Australia  2015    21\n",
       "4                  C/C++  Australia  2014    17"
      ]
     },
     "execution_count": 107,
     "metadata": {},
     "output_type": "execute_result"
    }
   ],
   "source": [
    "import pandas as pd\n",
    "\n",
    "# load data\n",
    "df = pd.read_csv('LinkedIn Top Skills.csv', delimiter=',')\n",
    "df.head()"
   ]
  },
  {
   "cell_type": "code",
   "execution_count": 103,
   "metadata": {
    "ExecuteTime": {
     "end_time": "2017-10-14T01:29:03.581912Z",
     "start_time": "2017-10-14T01:29:03.550850Z"
    }
   },
   "outputs": [
    {
     "data": {
      "text/html": [
       "<div>\n",
       "<style>\n",
       "    .dataframe thead tr:only-child th {\n",
       "        text-align: right;\n",
       "    }\n",
       "\n",
       "    .dataframe thead th {\n",
       "        text-align: left;\n",
       "    }\n",
       "\n",
       "    .dataframe tbody tr th {\n",
       "        vertical-align: top;\n",
       "    }\n",
       "</style>\n",
       "<table border=\"1\" class=\"dataframe\">\n",
       "  <thead>\n",
       "    <tr style=\"text-align: right;\">\n",
       "      <th></th>\n",
       "      <th>Skill</th>\n",
       "      <th>Country</th>\n",
       "      <th>Year</th>\n",
       "      <th>Rank</th>\n",
       "    </tr>\n",
       "  </thead>\n",
       "  <tbody>\n",
       "    <tr>\n",
       "      <th>739</th>\n",
       "      <td>Algorithm Design</td>\n",
       "      <td>United States</td>\n",
       "      <td>2015</td>\n",
       "      <td>8</td>\n",
       "    </tr>\n",
       "    <tr>\n",
       "      <th>740</th>\n",
       "      <td>Algorithm Design</td>\n",
       "      <td>United States</td>\n",
       "      <td>2016</td>\n",
       "      <td>9</td>\n",
       "    </tr>\n",
       "    <tr>\n",
       "      <th>744</th>\n",
       "      <td>Cloud and Distributed Computing</td>\n",
       "      <td>United States</td>\n",
       "      <td>2014</td>\n",
       "      <td>1</td>\n",
       "    </tr>\n",
       "    <tr>\n",
       "      <th>745</th>\n",
       "      <td>Cloud and Distributed Computing</td>\n",
       "      <td>United States</td>\n",
       "      <td>2015</td>\n",
       "      <td>1</td>\n",
       "    </tr>\n",
       "    <tr>\n",
       "      <th>746</th>\n",
       "      <td>Cloud and Distributed Computing</td>\n",
       "      <td>United States</td>\n",
       "      <td>2016</td>\n",
       "      <td>1</td>\n",
       "    </tr>\n",
       "  </tbody>\n",
       "</table>\n",
       "</div>"
      ],
      "text/plain": [
       "                               Skill        Country  Year  Rank\n",
       "739                 Algorithm Design  United States  2015     8\n",
       "740                 Algorithm Design  United States  2016     9\n",
       "744  Cloud and Distributed Computing  United States  2014     1\n",
       "745  Cloud and Distributed Computing  United States  2015     1\n",
       "746  Cloud and Distributed Computing  United States  2016     1"
      ]
     },
     "execution_count": 103,
     "metadata": {},
     "output_type": "execute_result"
    }
   ],
   "source": [
    "# filter by country and rank.\n",
    "\n",
    "df2 = df[(df.Country == \"United States\") & (df['Rank'] < 11)]\n",
    "df2.head()\n"
   ]
  },
  {
   "cell_type": "markdown",
   "metadata": {},
   "source": [
    "Used Beautiful Soup to scrape MSIS course information from SCU website;the course titles are then copied and pasted into csv file. Extra lines are deleted in Excel. Some issues I had with this step were that this was a relatively old page; some new courses such as Machine Learning were not added; I had to add them manually later. It was difficult to scrape data from the more updated version of the course description, as the course titles are all enclosed in a collapsed table."
   ]
  },
  {
   "cell_type": "code",
   "execution_count": 102,
   "metadata": {
    "ExecuteTime": {
     "end_time": "2017-10-14T01:13:03.548993Z",
     "start_time": "2017-10-14T01:13:03.299130Z"
    }
   },
   "outputs": [
    {
     "name": "stdout",
     "output_type": "stream",
     "text": [
      "Course Numbering Key:\n",
      "2XXX – Courses for M.S. students only3XXX – Courses for MBA students\n",
      "Refer to previous year bulletin for 3-digit course information (with exception of MSIS and AMBA courses which are included here).\n",
      "MSIS 2601. Object-Oriented Analysis and Programming\n",
      "MSIS 2602. Information Systems Analysis and Design\n",
      "MSIS 2603. Database Management Systems\n",
      "MSIS 2604. Information Systems Policy and Strategy\n",
      "MSIS 2605. Telecommunications and Business Networks\n",
      "MSIS 2606. Software Project Management \n",
      "MSIS 2621. Business Intelligence and Data Warehousing \n",
      "MSIS 2622. ERP Systems\n",
      "MSIS 2623. Financial Information Systems\n",
      "MSIS 2624. E-Business Technologies - Virtualization\n",
      "MSIS 2625. Information Security Management\n",
      "MSIS 2626. Computer Simulation and Modeling\n",
      "MSIS 2627. Big Data Modeling and Analytics \n",
      "MSIS 2628. The Business of Cloud Computing\n",
      "MSIS 2629. Dashboards, Scorecards, and Visualization \n",
      "MSIS 2630. Web Programming\n",
      "MSIS 2640. Capstone Project Proposal\n",
      "MSIS 2641. Information Technology:  Ethics and Public Policy\n",
      "MSIS 2642. Capstone Project I\n",
      "MSIS 2643. Capstone Project II \n",
      "MSIS 2644. Master’s Thesis (Capstone Option)\n",
      "MSIS 2645. Capstone Design Project Proposal \n",
      "MSIS 2646. Capstone Design Project I\n",
      "MSIS 2647. Capstone Design Project II\n",
      "MSIS 28**. Emerging Topics in IT Management\n",
      "Business Core courses required of all MSIS students\n",
      "ACTG 2301. Financial and Managerial Accounting\n",
      "MGMT 2501. Building and Leading High-Performance Teams and Organizations\n",
      "OMIS 2355. Computer-Based Decision Models\n"
     ]
    }
   ],
   "source": [
    "\n",
    "import bs4 as bs\n",
    "import urllib.request\n",
    "\n",
    "sauce = urllib.request.urlopen('https://www.scu.edu/business/graduates/bulletin/programs-and-admissions/course-descriptions/master-of-science-in-information-systems/').read()\n",
    "soup = bs.BeautifulSoup(sauce,'lxml')\n",
    "\n",
    "for tag in soup.find_all(\"strong\"):\n",
    "    print(tag.text)\n",
    "    "
   ]
  },
  {
   "cell_type": "markdown",
   "metadata": {},
   "source": [
    "I merged the Linkedin Skill Rank data with the course information scraped by appending appropriate course(s) next to the skill; this might show interested students which course will give them the skills ranked. The results are plotted on Tableu.\n",
    "\n"
   ]
  },
  {
   "cell_type": "code",
   "execution_count": 105,
   "metadata": {
    "ExecuteTime": {
     "end_time": "2017-10-14T06:06:52.843159Z",
     "start_time": "2017-10-14T06:06:52.688607Z"
    }
   },
   "outputs": [
    {
     "data": {
      "text/html": [
       "<div>\n",
       "<style>\n",
       "    .dataframe thead tr:only-child th {\n",
       "        text-align: right;\n",
       "    }\n",
       "\n",
       "    .dataframe thead th {\n",
       "        text-align: left;\n",
       "    }\n",
       "\n",
       "    .dataframe tbody tr th {\n",
       "        vertical-align: top;\n",
       "    }\n",
       "</style>\n",
       "<table border=\"1\" class=\"dataframe\">\n",
       "  <thead>\n",
       "    <tr style=\"text-align: right;\">\n",
       "      <th></th>\n",
       "      <th>Skill</th>\n",
       "      <th>Country</th>\n",
       "      <th>Year</th>\n",
       "      <th>Rank</th>\n",
       "      <th>Corresponding Course</th>\n",
       "    </tr>\n",
       "  </thead>\n",
       "  <tbody>\n",
       "    <tr>\n",
       "      <th>0</th>\n",
       "      <td>Cloud and Distributed Computing</td>\n",
       "      <td>United States</td>\n",
       "      <td>2014</td>\n",
       "      <td>1</td>\n",
       "      <td>MSIS 2628. The Business of Cloud Computing, MS...</td>\n",
       "    </tr>\n",
       "    <tr>\n",
       "      <th>1</th>\n",
       "      <td>Cloud and Distributed Computing</td>\n",
       "      <td>United States</td>\n",
       "      <td>2015</td>\n",
       "      <td>1</td>\n",
       "      <td>MSIS 2628. The Business of Cloud Computing, MS...</td>\n",
       "    </tr>\n",
       "    <tr>\n",
       "      <th>2</th>\n",
       "      <td>Cloud and Distributed Computing</td>\n",
       "      <td>United States</td>\n",
       "      <td>2016</td>\n",
       "      <td>1</td>\n",
       "      <td>MSIS 2628. The Business of Cloud Computing, MS...</td>\n",
       "    </tr>\n",
       "    <tr>\n",
       "      <th>3</th>\n",
       "      <td>Statistical Analysis and Data Mining</td>\n",
       "      <td>United States</td>\n",
       "      <td>2014</td>\n",
       "      <td>2</td>\n",
       "      <td>MSIS 2627. Big Data Modeling and Analytics, MS...</td>\n",
       "    </tr>\n",
       "    <tr>\n",
       "      <th>4</th>\n",
       "      <td>Statistical Analysis and Data Mining</td>\n",
       "      <td>United States</td>\n",
       "      <td>2015</td>\n",
       "      <td>2</td>\n",
       "      <td>MSIS 2627. Big Data Modeling and Analytics, MS...</td>\n",
       "    </tr>\n",
       "  </tbody>\n",
       "</table>\n",
       "</div>"
      ],
      "text/plain": [
       "                                  Skill        Country  Year  Rank  \\\n",
       "0       Cloud and Distributed Computing  United States  2014     1   \n",
       "1       Cloud and Distributed Computing  United States  2015     1   \n",
       "2       Cloud and Distributed Computing  United States  2016     1   \n",
       "3  Statistical Analysis and Data Mining  United States  2014     2   \n",
       "4  Statistical Analysis and Data Mining  United States  2015     2   \n",
       "\n",
       "                                Corresponding Course  \n",
       "0  MSIS 2628. The Business of Cloud Computing, MS...  \n",
       "1  MSIS 2628. The Business of Cloud Computing, MS...  \n",
       "2  MSIS 2628. The Business of Cloud Computing, MS...  \n",
       "3  MSIS 2627. Big Data Modeling and Analytics, MS...  \n",
       "4  MSIS 2627. Big Data Modeling and Analytics, MS...  "
      ]
     },
     "execution_count": 105,
     "metadata": {},
     "output_type": "execute_result"
    }
   ],
   "source": [
    "# load data\n",
    "skills = pd.read_csv('skills_courses.csv', delimiter=',')\n",
    "skills.head()"
   ]
  },
  {
   "cell_type": "markdown",
   "metadata": {},
   "source": [
    "This is the resulting table:<br>\n",
    "<img src=\"files/images/table4.2.png\"width=\"70%\"><br>\n",
    "\n",
    "*Advantages:* This visualization shows a clear trend in rankings of the different skills, as well as how the MSIS program is related to the skills listed; if a prospective student is interested in a particular skill, or a specific job listed on Linkedin in mind, they can see clearly from the tool-tip which MSIS class they should definitely consider taking in the future if they want to study the topic futher. Recruiters of jobs with those skills could also see what classes are offered at SCU and maybe click provided links to see further course description; they will get a better sense of how the student will acquire the skill and keep this in mind when they recruit students from the program.<br>\n",
    "\n",
    "*Disadvantages:* A major disadvantage is that the mark labels do not conform with the data set; it cannot rotate to fit the data points thus making the visualization looking very cluttered. Also, it is not apparent without moving the cursor onto the skills that there are specific courses tailored towards that skill. Another is that although there are very specific courses designed with the skills in mind, there are also courses that do not explicitly refer to the skill in the course title: object-oriented programming could also refer to Python, capstone design projects would also give the student algorithm design skills, etc. Some courses did not match to any skill, but they do give the student the foundations of the listed skills. For example, visualization course could also be very helpful in the process of acquiring the skill of statistical analysis. Another disadvantage is that the data is only limited to the US; if students are looking to get a job in another country, the ranking would look different and some courses may not carry (Ethics, policy & stratege).<br>\n",
    "\n",
    "*Improvements:* I could improve this visualization by providing links to course description for further reading, I could also put a mark label on each skill indicating that there are a number of specific courses related to that skill.\n",
    "\n"
   ]
  },
  {
   "cell_type": "markdown",
   "metadata": {},
   "source": [
    "## Dataset #3: Increasing Number of Jobs in Data\n",
    "I've decided to use this set of __[data](https://www.bls.gov/oes/tables.htm)__ from Bureau of Labor Statistics, for the years 2014, 2015, and 2016. These are excel tables directly downloadable from the website. The tables were cleaned up here and saved to new csv file."
   ]
  },
  {
   "cell_type": "code",
   "execution_count": 129,
   "metadata": {
    "ExecuteTime": {
     "end_time": "2017-10-14T18:44:32.774760Z",
     "start_time": "2017-10-14T18:44:32.719851Z"
    }
   },
   "outputs": [],
   "source": [
    "# load data\n",
    "lr = pd.read_csv('laborstat14.csv', delimiter=',')\n",
    "\n",
    "# Eliminate unwanted columns, filter by column and job title.\n",
    "lr['YEAR'] = \"2014\"\n",
    "lr = lr[['YEAR','OCC_CODE','OCC_TITLE','TOT_EMP','A_MEAN']]\n",
    "\n",
    "\n",
    "lr1 =lr.loc[lr['OCC_CODE'].isin([\"15-1120\",\"15-1140\"])]\n",
    "\n",
    "\n"
   ]
  },
  {
   "cell_type": "code",
   "execution_count": 128,
   "metadata": {
    "ExecuteTime": {
     "end_time": "2017-10-14T18:44:27.252341Z",
     "start_time": "2017-10-14T18:44:27.171311Z"
    }
   },
   "outputs": [],
   "source": [
    "# load data\n",
    "lb = pd.read_csv('laborstat15.csv', delimiter=',')\n",
    "lb['YEAR'] = \"2015\"\n",
    "# Eliminate unwanted columns, filter by column and job title.\n",
    "lb = lb[['YEAR','OCC_CODE','OCC_TITLE','TOT_EMP','A_MEAN']]\n",
    "\n",
    "\n",
    "lb1 =lb.loc[lb['OCC_CODE'].isin([\"15-1120\",\"15-1140\"])]\n"
   ]
  },
  {
   "cell_type": "code",
   "execution_count": 127,
   "metadata": {
    "ExecuteTime": {
     "end_time": "2017-10-14T18:44:12.114091Z",
     "start_time": "2017-10-14T18:44:11.908968Z"
    }
   },
   "outputs": [],
   "source": [
    "# load data\n",
    "le = pd.read_csv('laborstat16.csv', delimiter=',')\n",
    "le['YEAR'] = \"2016\"\n",
    "# Eliminate unwanted columns, filter by column and job title.\n",
    "le = le[['YEAR','OCC_CODE','OCC_TITLE','TOT_EMP','A_MEAN']]\n",
    "\n",
    "\n",
    "le1 =le.loc[le['OCC_CODE'].isin([\"15-1120\",\"15-1140\"])]"
   ]
  },
  {
   "cell_type": "code",
   "execution_count": 124,
   "metadata": {
    "ExecuteTime": {
     "end_time": "2017-10-14T07:51:24.992551Z",
     "start_time": "2017-10-14T07:51:24.963473Z"
    }
   },
   "outputs": [],
   "source": [
    "# Append all data to same table and write to file; data plotted on Tableau.\n",
    "\n",
    "lrbe = lr1.append([lb1,le1])\n",
    "lrbe.to_csv('lab4laborStat.csv',index=False)"
   ]
  },
  {
   "cell_type": "markdown",
   "metadata": {
    "ExecuteTime": {
     "end_time": "2017-10-14T08:23:19.683174Z",
     "start_time": "2017-10-14T08:23:19.664332Z"
    }
   },
   "source": [
    "This is the resulting table:<br>\n",
    "\n",
    "<img src=\"files/images/table4.3.png\"width=\"60%\"><br>\n",
    "\n",
    "*Advantages:* This graph shows a clear upward trend for both the total employment available and the mean annual salary for the two selected job positions. The viewer will quickly understand the argument I am tryng to communicate.<br>\n",
    "\n",
    "*Disadvantages:* There are very little data points selected for this visualization, making the argument somewhat weak. The Bureau of Labor is also dated in their description of data-related jobs; data analysis is so prevalent throughout every industry that it should be be restricted only to computers and mathematics; they could be used in education, financial organizations etc. To counter this, I have selected two very broad  fields, which include positions most often is associated with data analysts/data scientists.<br>\n",
    "\n",
    "*Improvements:* I could provide links to the specific title descriptions to give the audience a clear idea of what these jobs are."
   ]
  },
  {
   "cell_type": "markdown",
   "metadata": {},
   "source": [
    "## Discussion\n",
    "\n",
    "My original claim for the datasets collectively was that the MSIS program will gear students with the current most demanding skill on the job market, and the 3rd visualization also expressed that jobs related to data management and data analysis is on the rise, making the MSIS program an ideal place to be for student aiming to jump-start their career. However, there is a assumption that students who joined and finishes the MSIS program will be well-geared to join the job hunt, but how to get those high-demand jobs (such as those in FLAG companies) will be dependent on their individual abilities. To make my claim stronger, I could find further data supporting the fact that alumnis are getting these positions fast (how fast they obtain a job), and positions in relation to the high demanding skills (dataset #2) are filling up fast.\n"
   ]
  },
  {
   "cell_type": "markdown",
   "metadata": {},
   "source": [
    "### Resources Used:\n",
    "\n",
    "1. MSIS Alumni Work Info/Skillset: __[Linkedin Leavy Alumni Group](https://www.linkedin.com/school/165847/alumni/?facetFieldOfStudy=101468)__<br>\n",
    "2. Top Skills on Linkedin: __[Makeover Monday Blog Post](https://www.tableau.com/about/blog/2017/4/flex-your-data-skills-makeover-monday-68584)__<br>\n",
    "3. Occupational Employment Statistics - __[Bureau of Labor Statistics](https://www.bls.gov/oes/tables.htm)__<br>\n",
    "4. MSIS Curriculum Info: __[List of Courses](https://www.scu.edu/business/graduates/bulletin/programs-and-admissions/course-descriptions/master-of-science-in-information-systems/)__<br>\n",
    "5. Beautiful Soup Documentation:__[Link](https://www.crummy.com/software/BeautifulSoup/bs4/doc/#tag)__<br>\n",
    "6. Beautiful Soup Tutorial Series: __[Link](https://www.youtube.com/watch?v=aIPqt-OdmS0&list=PLQVvvaa0QuDfV1MIRBOcqClP6VZXsvyZS)__<br>"
   ]
  }
 ],
 "metadata": {
  "kernelspec": {
   "display_name": "Python 3",
   "language": "python",
   "name": "python3"
  },
  "language_info": {
   "codemirror_mode": {
    "name": "ipython",
    "version": 3
   },
   "file_extension": ".py",
   "mimetype": "text/x-python",
   "name": "python",
   "nbconvert_exporter": "python",
   "pygments_lexer": "ipython3",
   "version": "3.6.2"
  },
  "toc": {
   "nav_menu": {},
   "number_sections": true,
   "sideBar": true,
   "skip_h1_title": false,
   "toc_cell": false,
   "toc_position": {},
   "toc_section_display": "block",
   "toc_window_display": false
  },
  "varInspector": {
   "cols": {
    "lenName": 16,
    "lenType": 16,
    "lenVar": 40
   },
   "kernels_config": {
    "python": {
     "delete_cmd_postfix": "",
     "delete_cmd_prefix": "del ",
     "library": "var_list.py",
     "varRefreshCmd": "print(var_dic_list())"
    },
    "r": {
     "delete_cmd_postfix": ") ",
     "delete_cmd_prefix": "rm(",
     "library": "var_list.r",
     "varRefreshCmd": "cat(var_dic_list()) "
    }
   },
   "types_to_exclude": [
    "module",
    "function",
    "builtin_function_or_method",
    "instance",
    "_Feature"
   ],
   "window_display": false
  }
 },
 "nbformat": 4,
 "nbformat_minor": 2
}
